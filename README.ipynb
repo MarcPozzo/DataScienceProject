{
 "cells": [
  {
   "cell_type": "markdown",
   "metadata": {},
   "source": [
    "READ ME"
   ]
  },
  {
   "cell_type": "markdown",
   "metadata": {},
   "source": [
    "Datascientest Project :\n",
    "Movie Recommender System\n",
    "\n",
    "The project goal is to propose one or several models in data science able to predict which movie(s) one user will like.\n",
    "\n",
    "If you want a basic demo of the recommander sytem, run now the engine recommender file in the folder movie engine recommender. This basic recommender is based on most action movies viewed  with collaborotif filtrage method. \n",
    "\n",
    "The result for each fill is below.\n",
    "\n",
    "The global project is based on 2 datasets: \n",
    "- IMDB with 500K movies et its characteristic (year, time, genre, actors...)\n",
    "- MovieLens with 27K movies et 138K users having each rated some of these films.\n",
    "\n",
    "The 2 databases are then merge to work on 27K movies only. We have for each movie user notes, and their characteristics. Predictions are made on user notes.\n",
    "\n",
    "Several models are studied:\n",
    "- recommender system\n",
    "- regression \n",
    "- deep-learning\n",
    "In addition to these prediction models, there are clustering models for grouping users and / or movies.\n",
    "- detection communauties with graphes nx\n",
    "The proposed films are then derived from the cross-checking of the two types of models"
   ]
  },
  {
   "cell_type": "markdown",
   "metadata": {},
   "source": [
    "Before you start:\n",
    "\n",
    "- Make sure of the good architecture of the file dataset, outside the git-repo.\n",
    "- Run the MovieRecommenderSystem / tri_data / infos_users script to create the dataframes that register in dataset / data_regression (this is needed for regression and deep-learning scripts).\n",
    "- Run the MovieRecommenderSystem / algorithms / recommender_system / creation_matrices_similarites script until the movie_similarity.csv matrix is saved (then normally crashes). We need it for algorithms / alternating_least_square\n",
    "\n",
    "Then no order"
   ]
  },
  {
   "cell_type": "markdown",
   "metadata": {},
   "source": [
    "please download fills in the following website :\n",
    "https://grouplens.org/datasets/movielens/  (MovieLens 20M Dataset)\n",
    "and https://www.imdb.com/interfaces/"
   ]
  },
  {
   "cell_type": "markdown",
   "metadata": {},
   "source": [
    "Please double click on this case.\n",
    "Architecture du projet :\n",
    "\n",
    "dataset\n",
    "--- ml-20m\n",
    "--- --- genome-scores.csv\n",
    "--- --- genome-tags.csv\n",
    "--- --- links.csv\n",
    "--- --- movies.csv\n",
    "--- --- ratings.csv\n",
    "--- --- tags.csv\n",
    "--- data_regression\n",
    "--- --- df_movie.csv\n",
    "--- --- df_note.csv\n",
    "--- --- df_user.csv\n",
    "--- name.basics.tsv\n",
    "--- title.akas.tsv\n",
    "--- title.basics.tsv\n",
    "--- title.crew.tsv\n",
    "--- title.episode.tsv\n",
    "--- title.principals.tsv\n",
    "--- title.ratings.tsv\n",
    "MovieRecommenderSystem (git-repo)\n",
    "--- README\n",
    "--- algorithmes\n",
    "--- analyses_data\n",
    "--- new_dataset\n",
    "--- tri_data"
   ]
  },
  {
   "cell_type": "markdown",
   "metadata": {},
   "source": [
    "algorithmes folder\n",
    "\n",
    "gathered several algorithmes studied of data science.\n",
    "\n",
    "\n",
    "- théorie des graphes\n",
    "--- detection_communautes_movies is a file using networkX for graphics tracing depends on movies between them. 2 films are linked together if 1 same user voted for the 2. Are then made detections of communities\n",
    "detection_communautes_movies is a file that depends on the users between them via the graphs. 1 person is created between 2 users who voted for the same movie. Number of edges too high, to review.\n",
    "\n",
    "- regression\n",
    "--- regression_all does a linear regression with Scikit-Learn in using information of movies and users, to predict the great given to a movie\n",
    "--- regression_keras does the same with Keras\n",
    "\n",
    "\n",
    "- recommender system\n",
    "--- creation_matrices_similarites allows to create similarity matrix with users greats. This matrix is used for making the  movie_similarity fill, used in the collaborative filtrage.\n",
    "--- filtrage collaboratif is a model based on similartities between users or movies, (run before creation_matrices_similarites.ipynb)\n",
    "--- alternating_least_square is a recommender system based on 2 matrix corresponding to mmovie and user characteristics. These 2 matrixs multiplied should be equal to the ranking matrix. This method solves somehow the sparse problem in filtrage collaboratif.\n",
    "\n"
   ]
  },
  {
   "cell_type": "markdown",
   "metadata": {},
   "source": [
    "new_dataset folder\n",
    "\n",
    "groups the dataframes created during MovieRecommenderSystem / tri_data scripts. When df are too heavy to be committees, they are stored in dataset (this is the case for df created in MovieRecommenderSystem / tri_data / infos_users and the dice created in MovieRecommenderSystem / algorithms / recommendersystem)\n",
    "\n",
    "\n",
    "\n",
    "- correspondances_Id_movie is the link between the movieId used in MovieLens, movieId used in IMDB, and the key movieId (recreated to be continuous) used by the sequence = called movieId_ref everywhere\n",
    "- imdb_db is the df created following the sorting of the IMDB data\n",
    "- movie_df is the df created as a result of the grouping of 2 db, so it has the good movieId_ref"
   ]
  },
  {
   "cell_type": "markdown",
   "metadata": {},
   "source": [
    "tri_data folder\n",
    "\n",
    "groups the scripts that sort the data of the 2 datasets, and group them by keys representing the movies.\n",
    "\n",
    "\n",
    "- comp_2_datasets is the script used to link the 2 IMDB and MovieLens databases\n",
    "- infos_users is a script that crosses information about users (number of votes for each user, average of votes, number of votes for each genre of film ...)\n",
    "- tri_IMDB is the script used to sort the IMDB database\n",
    "- tri_MovieLens is the script used to sort the MovieLens database"
   ]
  },
  {
   "cell_type": "markdown",
   "metadata": {},
   "source": [
    "Results\n",
    "\n",
    "als_1_user and filtrage_col_1_user run with dataset of 100 000 users and 23 000 movies\n",
    "\n",
    "- filtrage_col_1_user has a 0.24 RMSE (for test set)\n",
    "\n",
    "- als_1_user has a 0.25 RMSE (for test set)\n",
    "\n",
    "\n",
    "\n",
    "regression files run with dataset of 50 000 users and 11 500 movies\n",
    "\n",
    "- all (linear regression) : rmse 0.19\n",
    "- regression_keras rmse : 0.22\n",
    "- notes rmse :0.9 \n",
    "\n",
    "\n",
    "reduced ALS, reduced_fc, reduced_sgd run with dataset of  22800 users et 3000 movies \n",
    "\n",
    "\n",
    "- reduced ALS RMSE=3\n",
    "- reduced_fc RMSE=3.1\n",
    "- reduced_sgd RMSE=0.9"
   ]
  },
  {
   "cell_type": "markdown",
   "metadata": {},
   "source": [
    "Conclusion\n",
    "\n",
    "regressions, collaborative filtrage and als reach rmse approximately equal as 0.2, and are very sensitive to the size, Standart gradient descent only can reach a RMSE of 0.9 with 1/5 of the data set. "
   ]
  },
  {
   "cell_type": "markdown",
   "metadata": {},
   "source": [
    "Next step : move to Spark"
   ]
  }
 ],
 "metadata": {
  "kernelspec": {
   "display_name": "Python 3",
   "language": "python",
   "name": "python3"
  },
  "language_info": {
   "codemirror_mode": {
    "name": "ipython",
    "version": 3
   },
   "file_extension": ".py",
   "mimetype": "text/x-python",
   "name": "python",
   "nbconvert_exporter": "python",
   "pygments_lexer": "ipython3",
   "version": "3.7.1"
  }
 },
 "nbformat": 4,
 "nbformat_minor": 2
}
