{
 "cells": [
  {
   "cell_type": "markdown",
   "metadata": {},
   "source": [
    "Please enter the two cases below"
   ]
  },
  {
   "cell_type": "code",
   "execution_count": 1,
   "metadata": {},
   "outputs": [],
   "source": [
    "import pandas as pd\n",
    "import numpy as np\n",
    "from sklearn.model_selection import train_test_split\n",
    "from numpy.linalg import inv\n",
    "from sklearn.metrics import mean_squared_error\n",
    "import matplotlib.pyplot as plt\n",
    "import sklearn.metrics.pairwise as dist\n",
    "from tqdm import tqdm\n",
    "import seaborn as sns\n",
    "%matplotlib inline\n",
    "ratings=pd.read_csv('../../new_dataset/action_movies.csv',index_col=0)\n",
    "#movies=pd.read_csv('../../../dataset/ml-20m/movies.csv')\n",
    "movies_titles=pd.read_csv(\"../../new_dataset/action_titles.csv\")\n",
    "df_ref=pd.read_csv('../../new_dataset/correspondances_Id_movie')"
   ]
  },
  {
   "cell_type": "code",
   "execution_count": 2,
   "metadata": {},
   "outputs": [
    {
     "name": "stdin",
     "output_type": "stream",
     "text": [
      "Type a number between 0 and 1168 to indicate your IdUser :  1\n",
      "Type the number of moovies you want to watch :  1\n"
     ]
    },
    {
     "name": "stdout",
     "output_type": "stream",
     "text": [
      "Bravo, you have already seen  410 movies\n",
      "The list of movies I advice you is below\n",
      "this is the list of movies already seen :  ['Sudden Death (1995)', 'GoldenEye (1995)', 'Cutthroat Island (1995)', 'Money Train (1995)', 'Assassins (1995)', 'Dead Presidents (1995)', 'From Dusk Till Dawn (1996)', 'Nick of Time (1995)', 'Broken Arrow (1996)', 'Rumble in the Bronx (Hont faan kui) (1995)', 'Batman Forever (1995)', 'Congo (1995)', 'Crimson Tide (1995)', 'Desperado (1995)', 'Die Hard: With a Vengeance (1995)', 'First Knight (1995)', 'Johnny Mnemonic (1995)', 'Judge Dredd (1995)', 'Net, The (1995)', 'Prophecy, The (1995)', 'Species (1995)', 'Strange Days (1995)', 'Under Siege 2: Dark Territory (1995)', 'Waterworld (1995)', 'Drop Zone (1994)', 'Just Cause (1995)', 'Outbreak (1995)', 'Quick and the Dead, The (1995)', 'Specialist, The (1994)', 'Stargate (1994)', 'Tank Girl (1995)', 'Star Trek: Generations (1994)', 'Virtuosity (1995)', 'Clear and Present Danger (1994)', 'Crow, The (1994)', 'I Love Trouble (1994)', 'Maverick (1994)', 'Speed (1994)', 'Timecop (1994)', 'True Lies (1994)', 'Low Down Dirty Shame, A (1994)', 'Highlander III: The Sorcerer (a.k.a. Highlander: The Final Dimension) (1994)', 'Bad Girls (1994)', 'Beverly Hills Cop III (1994)', 'Cliffhanger (1993)', 'Cowboy Way, The (1994)', 'Demolition Man (1993)', 'Fugitive, The (1993)', 'Getaway, The (1994)', 'Hard Target (1993)', 'Hot Shots! Part Deux (1993)', 'In the Line of Fire (1993)', 'Last Action Hero (1993)', 'Executive Decision (1996)', 'Next Karate Kid, The (1994)', 'No Escape (1994)', 'Rising Sun (1993)', 'RoboCop 3 (1993)', 'Romeo Is Bleeding (1993)', 'Shadow, The (1994)', 'Striking Distance (1993)', 'Terminal Velocity (1994)', 'Three Musketeers, The (1993)', 'Tombstone (1993)', 'Terminator 2: Judgment Day (1991)', 'Batman (1989)', 'Wild Bunch, The (1969)', 'Courage Under Fire (1996)', 'Mission: Impossible (1996)', 'Dragonheart (1996)', 'Operation Dumbo Drop (1995)', 'Substitute, The (1996)', 'Quest, The (1996)', 'Rock, The (1996)', 'Twister (1996)', 'Spy Hard (1996)', 'Independence Day (a.k.a. ID4) (1996)', 'Eraser (1996)', 'Daylight (1996)', 'Fled (1996)', 'Ransom (1996)', 'Chain Reaction (1996)', 'Crow: City of Angels, The (1996)', 'Escape from L.A. (1996)', 'Bulletproof (1996)', 'Maximum Risk (1996)', 'Last Man Standing (1996)', 'Glimmer Man, The (1996)', 'D3: The Mighty Ducks (1996)', 'Robin Hood: Prince of Thieves (1991)', 'Die Hard (1988)', 'Long Kiss Goodnight, The (1996)', 'Great Race, The (1965)', 'Bonnie and Clyde (1967)', 'Top Gun (1986)', 'Escape from New York (1981)', 'Star Wars: Episode V - The Empire Strikes Back (1980)', 'Raiders of the Lost Ark (Indiana Jones and the Raiders of the Lost Ark) (1981)', 'Aliens (1986)', 'Star Wars: Episode VI - Return of the Jedi (1983)', 'Ran (1985)', 'Terminator, The (1984)', 'Femme Nikita, La (Nikita) (1990)', 'Highlander (1986)', 'High Noon (1952)', 'Indiana Jones and the Last Crusade (1989)', 'Forbidden Planet (1956)', 'Alien³ (a.k.a. Alien 3) (1992)', 'Star Trek: First Contact (1996)', 'Die Hard 2 (1990)', 'Star Trek VI: The Undiscovered Country (1991)', 'Star Trek V: The Final Frontier (1989)', 'Star Trek III: The Search for Spock (1984)', 'Young Guns (1988)', 'Young Guns II (1990)', 'Under Siege (1992)', 'Last of the Mohicans, The (1992)', 'Murder at 1600 (1997)', 'Turbulence (1997)', \"Dante's Peak (1997)\", \"McHale's Navy (1997)\", 'Absolute Power (1997)', 'Saint, The (1997)', \"Devil's Own, The (1997)\", 'Anaconda (1997)', 'Volcano (1997)', 'Fifth Element, The (1997)', 'Con Air (1997)', 'Speed 2: Cruise Control (1997)', 'Face/Off (1997)', 'G.I. Jane (1997)', 'Spawn (1997)', 'Conspiracy Theory (1997)', 'Desperate Measures (1998)', 'Excess Baggage (1997)', 'Kull the Conqueror (1997)', 'Air Force One (1997)', 'Hunt for Red October, The (1990)', 'Edge, The (1997)', 'Peacemaker, The (1997)', 'Fire Down Below (1997)', 'Starship Troopers (1997)', 'Mortal Kombat: Annihilation (1997)', 'Jackal, The (1997)', 'Man Who Knew Too Little, The (1997)', 'Alien: Resurrection (1997)', 'Tomorrow Never Dies (1997)', 'Hard Rain (1998)', 'Fallen (1998)', 'Deep Rising (1998)', 'Replacement Killers, The (1998)', 'Blues Brothers 2000 (1998)', 'U.S. Marshals (1998)', 'Man in the Iron Mask, The (1998)', 'Newton Boys, The (1998)', 'Lost in Space (1998)', 'Mercury Rising (1998)', 'Mr. Nice Guy (Yat goh ho yan) (1997)', 'Species II (1998)', 'Black Dog (1998)', 'Deep Impact (1998)', 'Six Days Seven Nights (1998)', 'Armageddon (1998)', 'Lethal Weapon 4 (1998)', 'French Connection, The (1971)', 'Lethal Weapon (1987)', 'Lethal Weapon 2 (1989)', 'Lethal Weapon 3 (1992)', 'Mask of Zorro, The (1998)', 'Poseidon Adventure, The (1972)', 'Dune (1984)', 'Black Hole, The (1979)', 'Condorman (1981)', 'Negotiator, The (1998)', 'Tron (1982)', 'Indiana Jones and the Temple of Doom (1984)', 'Maximum Overdrive (1986)', 'Avengers, The (1998)', 'Blade (1998)', 'Wrongfully Accused (1998)', 'Rush Hour (1998)', 'Ronin (1998)', 'Soldier (1998)', 'Vampires (1998)', 'Siege, The (1998)', 'Runaway Train (1985)', 'Enemy of the State (1998)', 'Lifeforce (1985)', 'Star Trek: Insurrection (1998)', 'Rambo: First Blood Part II (1985)', 'Rambo III (1988)', 'Jewel of the Nile, The (1985)', 'Romancing the Stone (1984)', 'Karate Kid, The (1984)', 'Karate Kid, Part II, The (1986)', 'Mighty Joe Young (1998)', 'Howard the Duck (1986)', 'Crocodile Dundee II (1988)', 'Firewalker (1986)', 'Payback (1999)', 'Airport 1975 (1974)', \"Airport '77 (1977)\", 'Towering Inferno, The (1974)', 'Westworld (1973)', \"Logan's Run (1976)\", 'Beneath the Planet of the Apes (1970)', 'Conquest of the Planet of the Apes (1972)', 'Earthquake (1974)', 'Wing Commander (1999)', 'Mod Squad, The (1999)', 'Matrix, The (1999)', 'Twin Dragons (Shuang long hui) (1992)', 'Entrapment (1999)', 'My Science Project (1985)', 'Dick Tracy (1990)', 'Mummy, The (1999)', 'Star Wars: Episode I - The Phantom Menace (1999)', 'Superman II (1980)', 'Superman III (1983)', 'Superman IV: The Quest for Peace (1987)', 'War of the Worlds, The (1953)', 'Run Silent Run Deep (1958)', 'Austin Powers: The Spy Who Shagged Me (1999)', 'Wild Wild West (1999)', 'Lake Placid (1999)', 'Ghostbusters (a.k.a. Ghost Busters) (1984)', 'Ghostbusters II (1989)', 'Inspector Gadget (1999)', 'Deep Blue Sea (1999)', 'Mystery Men (1999)', 'Golden Child, The (1986)', 'Allan Quatermain and the Lost City of Gold (1987)', 'Universal Soldier: The Return (1999)', 'Universal Soldier (1992)', 'Iron Eagle (1986)', '13th Warrior, The (1999)', 'Chill Factor (1999)', 'Blue Streak (1999)', 'Three Kings (1999)', 'Total Recall (1990)', 'Drunken Master (Jui kuen) (1978)', 'Dirty Dozen, The (1967)', 'Goldfinger (1964)', 'From Russia with Love (1963)', 'Dr. No (1962)', 'RoboCop (1987)', 'RoboCop 2 (1990)', 'For Your Eyes Only (1981)', 'Licence to Kill (1989)', 'Live and Let Die (1973)', 'General, The (1926)', 'Nighthawks (1981)', 'Omega Man, The (1971)', 'Longest Day, The (1962)', 'World Is Not Enough, The (1999)', 'Backdraft (1991)', 'End of Days (1999)', 'Boiling Point (1993)', 'Presidio, The (1988)', 'Against All Odds (1984)', \"Loaded Weapon 1 (National Lampoon's Loaded Weapon 1) (1993)\", 'Patriot Games (1992)', 'Buffy the Vampire Slayer (1992)', 'Reindeer Games (2000)', 'Ghost Dog: The Way of the Samurai (1999)', 'Key Largo (1948)', 'Taking of Pelham One Two Three, The (1974)', 'Teenage Mutant Ninja Turtles (1990)', 'Teenage Mutant Ninja Turtles II: The Secret of the Ooze (1991)', 'Teenage Mutant Ninja Turtles III (1993)', 'Bloodsport (1988)', 'Romeo Must Die (2000)', 'Skulls, The (2000)', 'No Way Out (1987)', 'Force 10 from Navarone (1978)', 'Predator (1987)', 'U-571 (2000)', 'Gladiator (2000)', 'Battlefield Earth (2000)', 'Mission: Impossible II (2000)', 'Shanghai Noon (2000)', 'Spy Who Loved Me, The (1977)', 'Moonraker (1979)', 'Man with the Golden Gun, The (1974)', \"Big Momma's House (2000)\", 'Guns of Navarone, The (1961)', 'Magnum Force (1973)', 'Toxic Avenger, The (1985)', 'Predator 2 (1990)', 'Running Man, The (1987)', 'Alien Nation (1988)', 'Road Warrior, The (Mad Max 2) (1981)', 'Mad Max Beyond Thunderdome (1985)', 'Bird on a Wire (1990)', 'Gone in 60 Seconds (2000)', 'Assault on Precinct 13 (1976)', 'Titan A.E. (2000)', 'Patriot, The (2000)', 'Perfect Storm, The (2000)', 'F/X (1986)', 'F/X2 (a.k.a. F/X 2 - The Deadly Art of Illusion) (1991)', 'Dreamscape (1984)', 'X-Men (2000)', 'Freejack (1992)', 'Sinbad and the Eye of the Tiger (1977)', 'Hollow Man (2000)', 'Space Cowboys (2000)', 'Bronco Billy (1980)', 'Phantasm II (1988)', 'Air America (1990)', 'Art of War, The (2000)', 'Highlander: Endgame (Highlander IV) (2000)', 'Way of the Gun, The (2000)', 'Bait (2000)', 'Voyage to the Bottom of the Sea (1961)', 'Runaway (1984)', 'Get Carter (2000)', 'Legend of Drunken Master, The (Jui kuen II) (1994)', \"Charlie's Angels (2000)\", 'Red Planet (2000)', '6th Day, The (2000)', 'Crouching Tiger, Hidden Dragon (Wo hu cang long) (2000)', 'Vertical Limit (2000)', 'Living Daylights, The (1987)', 'Miss Congeniality (2000)', 'Dracula 2000 (2000)', 'Antitrust (2001)', 'Beverly Hills Cop II (1987)', 'Beverly Hills Cop (1984)', 'Cherry 2000 (1987)', 'Innerspace (1987)', 'Ishtar (1987)', 'Masters of the Universe (1987)', '3000 Miles to Graceland (2001)', '15 Minutes (2001)', 'Double Impact (1991)', 'Harley Davidson and the Marlboro Man (1991)', 'Navy Seals (1990)', 'Deepstar Six (1989)', 'Exit Wounds (2001)', 'Mummy Returns, The (2001)', 'Krull (1983)', \"Knight's Tale, A (2001)\", 'Pearl Harbor (2001)', 'Rio Bravo (1959)', \"Von Ryan's Express (1965)\", 'Swordfish (2001)', 'Point Break (1991)', 'Uncommon Valor (1983)', 'Lara Croft: Tomb Raider (2001)', 'Fast and the Furious, The (2001)', 'Cats & Dogs (2001)', 'Kiss of the Dragon (2001)', 'Outland (1981)', 'Final Fantasy: The Spirits Within (2001)', 'Dead Pool, The (1988)', 'Red Heat (1988)', 'Shoot to Kill (1988)', 'Blind Fury (1989)', 'Gleaming the Cube (1989)', 'Next of Kin (1989)', 'Pink Cadillac (1989)', 'Punisher, The (1989)', 'Jurassic Park III (2001)', 'Planet of the Apes (2001)', 'Road House (1989)', 'Tango & Cash (1989)', 'Warlock (1989)', 'Zorro, the Gay Blade (1981)', 'Rush Hour 2 (2001)', 'American Outlaws (2001)', 'Last Castle, The (2001)', 'One, The (2001)', 'Spy Game (2001)', 'Beastmaster, The (1982)', 'Flash Gordon (1980)', 'Gauntlet, The (1977)', 'Sudden Impact (1983)', 'Behind Enemy Lines (2001)', 'Another 48 Hrs. (1990)', 'Dragonslayer (1981)', 'Conan the Destroyer (1984)', '48 Hrs. (1982)', 'The Count of Monte Cristo (2002)', 'We Were Soldiers (2002)', 'Showtime (2002)', 'Smokey and the Bandit II (1980)', 'Smokey and the Bandit (1977)', 'Spider-Man (2002)', 'Star Wars: Episode II - Attack of the Clones (2002)', 'Every Which Way But Loose (1978)', 'Bourne Identity, The (2002)', 'Men at Work (1990)', 'V. I. Warshawski (1991)', 'In Like Flint (1967)', 'Principal, The (1987)', 'Hot Shots! (1991)', 'Stakeout (1987)', 'Transporter, The (2002)', 'Ballistic: Ecks vs. Sever (2002)', 'Godzilla vs. Mothra (Mosura tai Gojira) (1964)', 'Toy Soldiers (1991)', 'Thief (1981)', 'Blue Steel (1990)', 'Heavy Metal 2000 (2000)', 'Firefox (1982)', 'Shanghai Knights (2003)', 'Tears of the Sun (2003)', 'Italian Job, The (2003)', 'Italian Job, The (1969)']\n"
     ]
    },
    {
     "name": "stderr",
     "output_type": "stream",
     "text": [
      "/anaconda3/lib/python3.7/site-packages/pandas/core/frame.py:3697: SettingWithCopyWarning: \n",
      "A value is trying to be set on a copy of a slice from a DataFrame\n",
      "\n",
      "See the caveats in the documentation: http://pandas.pydata.org/pandas-docs/stable/indexing.html#indexing-view-versus-copy\n",
      "  errors=errors)\n",
      "100%|██████████| 651/651 [00:00<00:00, 17444.67it/s]\n"
     ]
    },
    {
     "ename": "NameError",
     "evalue": "name 'movies' is not defined",
     "output_type": "error",
     "traceback": [
      "\u001b[0;31m---------------------------------------------------------------------------\u001b[0m",
      "\u001b[0;31mNameError\u001b[0m                                 Traceback (most recent call last)",
      "\u001b[0;32m<ipython-input-2-9d31d65c7ff8>\u001b[0m in \u001b[0;36m<module>\u001b[0;34m\u001b[0m\n\u001b[1;32m     78\u001b[0m \u001b[0mmovies_adviced\u001b[0m\u001b[0;34m=\u001b[0m\u001b[0mlist\u001b[0m\u001b[0;34m(\u001b[0m\u001b[0mdf_ref\u001b[0m\u001b[0;34m[\u001b[0m\u001b[0;34m\"movieId\"\u001b[0m\u001b[0;34m]\u001b[0m\u001b[0;34m[\u001b[0m\u001b[0mdf_ref\u001b[0m\u001b[0;34m[\u001b[0m\u001b[0;34m\"movieId_ref\"\u001b[0m\u001b[0;34m]\u001b[0m\u001b[0;34m.\u001b[0m\u001b[0misin\u001b[0m\u001b[0;34m(\u001b[0m\u001b[0mmovies_adviced\u001b[0m\u001b[0;34m)\u001b[0m\u001b[0;34m]\u001b[0m\u001b[0;34m.\u001b[0m\u001b[0munique\u001b[0m\u001b[0;34m(\u001b[0m\u001b[0;34m)\u001b[0m\u001b[0;34m)\u001b[0m\u001b[0;34m\u001b[0m\u001b[0;34m\u001b[0m\u001b[0m\n\u001b[1;32m     79\u001b[0m \u001b[0;34m\u001b[0m\u001b[0m\n\u001b[0;32m---> 80\u001b[0;31m \u001b[0mmovies_adviced\u001b[0m\u001b[0;34m=\u001b[0m\u001b[0mlist\u001b[0m\u001b[0;34m(\u001b[0m\u001b[0mmovies\u001b[0m\u001b[0;34m[\u001b[0m\u001b[0;34m\"title\"\u001b[0m\u001b[0;34m]\u001b[0m\u001b[0;34m[\u001b[0m\u001b[0mmovies\u001b[0m\u001b[0;34m[\u001b[0m\u001b[0;34m\"movieId\"\u001b[0m\u001b[0;34m]\u001b[0m\u001b[0;34m.\u001b[0m\u001b[0misin\u001b[0m\u001b[0;34m(\u001b[0m\u001b[0mmovies_adviced\u001b[0m\u001b[0;34m)\u001b[0m\u001b[0;34m]\u001b[0m\u001b[0;34m.\u001b[0m\u001b[0munique\u001b[0m\u001b[0;34m(\u001b[0m\u001b[0;34m)\u001b[0m\u001b[0;34m)\u001b[0m\u001b[0;34m\u001b[0m\u001b[0;34m\u001b[0m\u001b[0m\n\u001b[0m\u001b[1;32m     81\u001b[0m \u001b[0mprint\u001b[0m\u001b[0;34m(\u001b[0m\u001b[0;34m\"Here are movies you will love\"\u001b[0m\u001b[0;34m)\u001b[0m\u001b[0;34m\u001b[0m\u001b[0;34m\u001b[0m\u001b[0m\n\u001b[1;32m     82\u001b[0m \u001b[0mstr\u001b[0m\u001b[0;34m(\u001b[0m\u001b[0mmovies_adviced\u001b[0m\u001b[0;34m[\u001b[0m\u001b[0;34m:\u001b[0m\u001b[0;34m:\u001b[0m\u001b[0;34m-\u001b[0m\u001b[0;36m1\u001b[0m\u001b[0;34m]\u001b[0m\u001b[0;34m)\u001b[0m\u001b[0;34m[\u001b[0m\u001b[0;36m1\u001b[0m\u001b[0;34m:\u001b[0m\u001b[0;34m-\u001b[0m\u001b[0;36m1\u001b[0m\u001b[0;34m]\u001b[0m\u001b[0;34m\u001b[0m\u001b[0;34m\u001b[0m\u001b[0m\n",
      "\u001b[0;31mNameError\u001b[0m: name 'movies' is not defined"
     ]
    }
   ],
   "source": [
    "#Définition du nombre de users et du nombre de films\n",
    "user=0\n",
    "movies_asked=10\n",
    "user = input(\"Type a number between 0 and 1168 to indicate your IdUser : \")\n",
    "movies_asked= input(\"Type the number of moovies you want to watch : \")\n",
    "user=int(user)\n",
    "movies_asked=int(movies_asked)\n",
    "\n",
    "\n",
    "n_users = ratings.Id_Action.unique().shape[0]\n",
    "n_movies = ratings.movie_Action.unique().shape[0]\n",
    "\n",
    "filtre=list(ratings[\"movie_Action\"][ratings[\"Id_Action\"]==user].unique())\n",
    "\n",
    "films_vus_par_u = ratings[ratings[\"movie_Action\"].isin(filtre)]\n",
    "\n",
    "#In a first we suppose assume that there is no user to remove but only movies to reindex\n",
    "n_users=len(films_vus_par_u[\"Id_Action\"].unique())\n",
    "n_movies=len(films_vus_par_u[\"movie_Action\"].unique())\n",
    "\n",
    "\n",
    "#jointure=pd.merge(movies,df_ref)\n",
    "#jointure.drop(['movieId', 'genres', 'imdbId', 'movieId_2', 'imdbId.1'],axis=1,inplace=True)\n",
    "jointure=pd.merge(movies_titles,ratings)\n",
    "jointure.drop([\"movieId_ref\",\"userId\",\"Id_Action\",\"rating\"],axis=1,inplace=True)\n",
    "jointure.head()\n",
    "jointure.head()\n",
    "\n",
    "movies_seen=jointure[jointure[\"movie_Action\"].isin(filtre)]\n",
    "print(\"Bravo, you have already seen \",str(n_movies) + \" movies\")\n",
    "print(\"The list of movies I advice you is below\")\n",
    "print(\"this is the list of movies already seen : \",list(movies_seen[\"title\"].unique()))\n",
    "\n",
    "films_vus_par_u.drop([\"userId\",\"movieId_ref\"],axis=1,inplace=True)\n",
    "\n",
    "conversion_Id_movies_seen=pd.DataFrame({\"movie_Action\":list(films_vus_par_u[\"movie_Action\"].unique()),\"new_movies_Id\":range(0,n_movies)})\n",
    "result=pd.merge(films_vus_par_u, conversion_Id_movies_seen, how='inner', on=None, left_on=None, right_on=None,\n",
    "         left_index=False, right_index=False, sort=True,\n",
    "         suffixes=('_x', '_y'), copy=True, indicator=False,\n",
    "         validate=None)\n",
    "\n",
    "matrice=np.zeros(( n_users,n_movies))\n",
    "for line in result.itertuples():\n",
    "    matrice[line[1], line[4]]=line[2]\n",
    "\n",
    "user_similarity=dist.cosine_similarity(matrice)\n",
    "\n",
    "a=list(ratings[\"movie_Action\"].unique())\n",
    "b=list(movies_seen[\"movie_Action\"].unique())\n",
    "movie_no_seen=[item for item in a if item not in b]\n",
    "movie_no_seen=pd.DataFrame({\"movie_Action\" : movie_no_seen})\n",
    "movie_no_seen=pd.merge(movie_no_seen,ratings,how='inner')\n",
    "\n",
    "n_movies=len(movie_no_seen.movie_Action.unique())\n",
    "#Il faut construire un nouveau index des Id_movies\n",
    "conversion_Id_movies_no_seen=pd.DataFrame({\"movie_Action\":list(movie_no_seen[\"movie_Action\"].unique()),\"new_movies_Id\":range(0,n_movies)})\n",
    "\n",
    "result=pd.merge(movie_no_seen, conversion_Id_movies_no_seen, how='inner', on=None, left_on=None, right_on=None,\n",
    "         left_index=False, right_index=False, sort=True,\n",
    "         suffixes=('_x', '_y'), copy=True, indicator=False,\n",
    "         validate=None)\n",
    "\n",
    "matrice_new=np.zeros(( 1168,n_movies))\n",
    "for line in result.itertuples():\n",
    "    matrice_new[line[3], line[6]]=line[5]\n",
    "    \n",
    "def pred_user(matrice_modele, user_similarity, k, user):    \n",
    "    pred = np.zeros(matrice_modele.shape[1])\n",
    "    top_k_users = np.argsort(user_similarity[:,user])[-1:-k-1:-1]  \n",
    "    for i in tqdm(range(matrice_modele.shape[1])):\n",
    "        pred[i]=user_similarity[user,:][top_k_users].dot(matrice_modele[:,i][top_k_users])\n",
    "        pred[i]/=np.sum(np.abs(user_similarity[user,:][top_k_users]))+0.000001     \n",
    "    return pred \n",
    "\n",
    "movies_adviced=np.argsort(pred_user(matrice_new, user_similarity, 15, user))[-1:-1-movies_asked:-1]\n",
    "movies_adviced=list(result[\"movie_Action\"][result[\"new_movies_Id\"].isin(movies_adviced)].unique())\n",
    "movies_adviced=list(ratings[\"movieId_ref\"][ratings[\"movie_Action\"].isin(movies_adviced)].unique())\n",
    "movies_adviced=list(df_ref[\"movieId\"][df_ref[\"movieId_ref\"].isin(movies_adviced)].unique())\n",
    "\n",
    "movies_adviced=list(movies[\"title\"][movies[\"movieId\"].isin(movies_adviced)].unique())\n",
    "print(\"Here are movies you will love\")\n",
    "str(movies_adviced[::-1])[1:-1]"
   ]
  },
  {
   "cell_type": "code",
   "execution_count": null,
   "metadata": {},
   "outputs": [],
   "source": []
  }
 ],
 "metadata": {
  "kernelspec": {
   "display_name": "Python 3",
   "language": "python",
   "name": "python3"
  },
  "language_info": {
   "codemirror_mode": {
    "name": "ipython",
    "version": 3
   },
   "file_extension": ".py",
   "mimetype": "text/x-python",
   "name": "python",
   "nbconvert_exporter": "python",
   "pygments_lexer": "ipython3",
   "version": "3.7.1"
  }
 },
 "nbformat": 4,
 "nbformat_minor": 2
}
