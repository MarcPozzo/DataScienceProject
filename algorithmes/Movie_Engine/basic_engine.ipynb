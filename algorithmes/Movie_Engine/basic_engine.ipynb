{
 "cells": [
  {
   "cell_type": "markdown",
   "metadata": {},
   "source": [
    "Please enter the two cases below"
   ]
  },
  {
   "cell_type": "code",
   "execution_count": 15,
   "metadata": {},
   "outputs": [],
   "source": [
    "import pandas as pd\n",
    "import numpy as np\n",
    "from sklearn.model_selection import train_test_split\n",
    "from numpy.linalg import inv\n",
    "from sklearn.metrics import mean_squared_error\n",
    "import matplotlib.pyplot as plt\n",
    "import sklearn.metrics.pairwise as dist\n",
    "from tqdm import tqdm\n",
    "import seaborn as sns\n",
    "%matplotlib inline\n",
    "ratings=pd.read_csv('../../new_dataset/action_movies.csv',index_col=0)\n",
    "movies_titles=pd.read_csv(\"../../new_dataset/action_titles.csv\")\n",
    "df_ref=pd.read_csv('../../new_dataset/correspondances_Id_movie')"
   ]
  },
  {
   "cell_type": "code",
   "execution_count": 18,
   "metadata": {},
   "outputs": [
    {
     "name": "stdin",
     "output_type": "stream",
     "text": [
      "Type a number between 0 and 1167 to indicate your IdUser :  1167\n",
      "Type the number of movies you want to watch :  100\n"
     ]
    },
    {
     "name": "stdout",
     "output_type": "stream",
     "text": [
      "Bravo, you have already seen  344 movies\n",
      "The list of movies I advice you is below\n",
      "this is the list of movies already seen :  ['Net, The (1995)', 'Just Cause (1995)', 'Star Wars: Episode IV - A New Hope (1977)', 'Stargate (1994)', 'Maverick (1994)', 'True Lies (1994)', 'Beverly Hills Cop III (1994)', 'Three Musketeers, The (1993)', 'Terminator 2: Judgment Day (1991)', 'Wild Bunch, The (1969)', 'Twister (1996)', 'Spy Hard (1996)', 'Independence Day (a.k.a. ID4) (1996)', 'Die Hard (1988)', 'Bonnie and Clyde (1967)', 'Top Gun (1986)', 'Escape from New York (1981)', 'Star Wars: Episode V - The Empire Strikes Back (1980)', 'Raiders of the Lost Ark (Indiana Jones and the Raiders of the Lost Ark) (1981)', 'Aliens (1986)', 'Star Wars: Episode VI - Return of the Jedi (1983)', 'Terminator, The (1984)', 'Femme Nikita, La (Nikita) (1990)', 'Highlander (1986)', 'High Noon (1952)', 'Indiana Jones and the Last Crusade (1989)', 'Forbidden Planet (1956)', 'Alien³ (a.k.a. Alien 3) (1992)', 'Star Trek V: The Final Frontier (1989)', 'Star Trek III: The Search for Spock (1984)', 'Batman Returns (1992)', 'Grosse Pointe Blank (1997)', 'Fifth Element, The (1997)', 'Lost World: Jurassic Park, The (1997)', 'George of the Jungle (1997)', 'Alien: Resurrection (1997)', 'French Connection, The (1971)', 'Lethal Weapon (1987)', 'Lethal Weapon 2 (1989)', 'Lethal Weapon 3 (1992)', 'Poseidon Adventure, The (1972)', 'Dune (1984)', 'Black Hole, The (1979)', 'Rocketeer, The (1991)', 'Tron (1982)', 'Indiana Jones and the Temple of Doom (1984)', 'Lifeforce (1985)', 'First Blood (Rambo: First Blood) (1982)', 'Jewel of the Nile, The (1985)', 'Howard the Duck (1986)', 'Crocodile Dundee II (1988)', \"Logan's Run (1976)\", 'Beneath the Planet of the Apes (1970)', 'Escape from the Planet of the Apes (1971)', 'Matrix, The (1999)', 'Mummy, The (1999)', 'Star Wars: Episode I - The Phantom Menace (1999)', 'Superman (1978)', 'War of the Worlds, The (1953)', 'Run Silent Run Deep (1958)', 'Austin Powers: The Spy Who Shagged Me (1999)', 'Ghostbusters (a.k.a. Ghost Busters) (1984)', 'Ghostbusters II (1989)', 'Inspector Gadget (1999)', 'Golden Child, The (1986)', 'Total Recall (1990)', 'Dirty Dozen, The (1967)', 'RoboCop (1987)', 'RoboCop 2 (1990)', '7th Voyage of Sinbad, The (1958)', 'Buffy the Vampire Slayer (1992)', 'Reindeer Games (2000)', 'Taking of Pelham One Two Three, The (1974)', 'Predator (1987)', 'Hidden, The (1987)', 'Gladiator (2000)', 'Moonraker (1979)', 'Guns of Navarone, The (1961)', 'Mad Max (1979)', 'Road Warrior, The (Mad Max 2) (1981)', 'Mad Max Beyond Thunderdome (1985)', 'Big Trouble in Little China (1986)', 'X-Men (2000)', \"Charlie's Angels (2000)\", '6th Day, The (2000)', 'Crouching Tiger, Hidden Dragon (Wo hu cang long) (2000)', 'Proof of Life (2000)', 'Miss Congeniality (2000)', 'Dracula 2000 (2000)', \"I'm Gonna Git You Sucka (1988)\", 'Beverly Hills Cop II (1987)', 'Beverly Hills Cop (1984)', 'Innerspace (1987)', '3000 Miles to Graceland (2001)', '15 Minutes (2001)', 'Spy Kids (2001)', 'Mummy Returns, The (2001)', \"Knight's Tale, A (2001)\", 'Magnificent Seven, The (1960)', 'Swordfish (2001)', 'Lara Croft: Tomb Raider (2001)', 'Cats & Dogs (2001)', 'Outland (1981)', 'Way of the Dragon, The (a.k.a. Return of the Dragon) (Meng long guo jiang) (1972)', 'Final Fantasy: The Spirits Within (2001)', 'Planet of the Apes (2001)', 'Last Castle, The (2001)', 'Heist (2001)', 'Spy Game (2001)', 'Behind Enemy Lines (2001)', 'Brotherhood of the Wolf (Pacte des loups, Le) (2001)', 'Kung Pow: Enter the Fist (2002)', '48 Hrs. (1982)', 'Collateral Damage (2002)', 'Time Machine, The (2002)', 'Showtime (2002)', 'Spider-Man (2002)', 'Star Wars: Episode II - Attack of the Clones (2002)', 'Bourne Identity, The (2002)', 'Minority Report (2002)', 'Men in Black II (a.k.a. MIIB) (a.k.a. MIB 2) (2002)', 'Austin Powers in Goldmember (2002)', 'Our Man Flint (1965)', 'Trapped (2002)', 'Godzilla vs. Mothra (Mosura tai Gojira) (1964)', 'Jackass: The Movie (2002)', 'Die Another Day (2002)', 'Equilibrium (2002)', 'Star Trek: Nemesis (2002)', 'Good Thief, The (2002)', 'X2: X-Men United (2003)', 'Matrix Reloaded, The (2003)', 'Italian Job, The (2003)', 'Terminator 3: Rise of the Machines (2003)', 'Pirates of the Caribbean: The Curse of the Black Pearl (2003)', 'League of Extraordinary Gentlemen, The (a.k.a. LXG) (2003)', 'Johnny English (2003)', 'Lara Croft Tomb Raider: The Cradle of Life (2003)', 'Open Range (2003)', 'Once Upon a Time in Mexico (2003)', 'Underworld (2003)', 'Kill Bill: Vol. 1 (2003)', 'Master and Commander: The Far Side of the World (2003)', 'Last Samurai, The (2003)', 'Paycheck (2003)', 'Spartan (2004)', 'Hellboy (2004)', 'Kill Bill: Vol. 2 (2004)', 'Man on Fire (2004)', 'Van Helsing (2004)', 'Enter the Dragon (1973)', 'Day After Tomorrow, The (2004)', 'Blind Swordsman: Zatoichi, The (Zatôichi) (2003)', 'Chronicles of Riddick, The (2004)', 'Spider-Man 2 (2004)', 'I, Robot (2004)', 'Bourne Supremacy, The (2004)', 'Incredibles, The (2004)', 'National Treasure (2004)', 'Constantine (2005)', 'Kung Fu Hustle (Gong fu) (2004)', 'Three Musketeers, The (1973)', 'Miss Congeniality 2: Armed and Fabulous (2005)', 'Kingdom of Heaven (2005)', 'Star Wars: Episode III - Revenge of the Sith (2005)', 'Mr. & Mrs. Smith (2005)', 'Batman Begins (2005)', 'Island, The (2005)', 'Serenity (2005)', 'Brothers Grimm, The (2005)', 'Aeon Flux (2005)', 'Flightplan (2005)', 'Kiss Kiss Bang Bang (2005)', 'Zathura (2005)', 'King Kong (2005)', 'V for Vendetta (2006)', 'Sentinel, The (2006)', 'X-Men: The Last Stand (2006)', \"Pirates of the Caribbean: Dead Man's Chest (2006)\", 'Superman Returns (2006)', 'Casino Royale (2006)', 'Curse of the Golden Flower (Man cheng jin dai huang jin jia) (2006)', 'Ghost Rider (2007)', 'Hot Fuzz (2007)', 'Host, The (Gwoemul) (2006)', 'Grindhouse (2007)', 'Spider-Man 3 (2007)', \"Pirates of the Caribbean: At World's End (2007)\", 'Fantastic Four: Rise of the Silver Surfer (2007)', 'Live Free or Die Hard (2007)', 'Transformers (2007)', 'Bourne Ultimatum, The (2007)', \"Shoot 'Em Up (2007)\", 'Brave One, The (2007)', 'Beowulf (2007)', 'National Treasure: Book of Secrets (2007)', 'Hellboy II: The Golden Army (2008)', 'Spiderwick Chronicles, The (2008)', 'Dark Knight, The (2008)', 'Forbidden Kingdom, The (2008)', 'Iron Man (2008)', 'Taken (2008)', 'Chronicles of Narnia: Prince Caspian, The (2008)', 'Indiana Jones and the Kingdom of the Crystal Skull (2008)', 'Kung Fu Panda (2008)', 'Incredible Hulk, The (2008)', 'Wanted (2008)', 'Hancock (2008)', 'Watchmen (2009)', 'Tropic Thunder (2008)', 'Body of Lies (2008)', 'Quantum of Solace (2008)', 'Underworld: Rise of the Lycans (2009)', 'Push (2009)', 'International, The (2009)', 'Knowing (2009)', 'Monsters vs. Aliens (2009)', 'X-Men Origins: Wolverine (2009)', 'Star Trek (2009)', 'Terminator Salvation (2009)', 'Brothers Bloom, The (2008)', 'Land of the Lost (2009)', 'Taking of Pelham 1 2 3, The (2009)', 'Transformers: Revenge of the Fallen (2009)', 'District 9 (2009)', 'Cloudy with a Chance of Meatballs (2009)', 'Surrogates (2009)', '2012 (2009)', 'Ninja Assassin (2009)', 'Avatar (2009)', 'Sherlock Holmes (2009)', 'Daybreakers (2010)', 'Book of Eli, The (2010)', 'Legion (2010)', 'Green Zone (2010)', 'How to Train Your Dragon (2010)', 'Clash of the Titans (2010)', 'Kick-Ass (2010)', 'Losers, The (2010)', 'Iron Man 2 (2010)', 'Prince of Persia: The Sands of Time (2010)', 'Last Airbender, The (2010)', 'Inception (2010)', \"Sorcerer's Apprentice, The (2010)\", 'Knight and Day (2010)', 'Karate Kid, The (2010)', 'Salt (2010)', 'Other Guys, The (2010)', 'Expendables, The (2010)', 'Scott Pilgrim vs. the World (2010)', 'Resident Evil: Afterlife (2010)', 'Red (2010)', 'Megamind (2010)', 'Unstoppable (2010)', 'Next Three Days, The (2010)', 'Skyline (2010)', 'Tourist, The (2010)', 'Tron: Legacy (2010)', 'Green Hornet, The (2011)', 'Season of the Witch (2011)', 'Cowboys & Aliens (2011)', 'Unknown (2011)', 'Mechanic, The (2011)', 'I Am Number Four (2011)', 'Source Code (2011)', 'Sucker Punch (2011)', 'Hanna (2011)', 'Thor (2011)', 'Fast Five (Fast and the Furious 5, The) (2011)', 'Priest (2011)', 'Pirates of the Caribbean: On Stranger Tides (2011)', 'X-Men: First Class (2011)', 'Green Lantern (2011)', 'Transformers: Dark of the Moon (2011)', 'Captain America: The First Avenger (2011)', 'Rise of the Planet of the Apes (2011)', 'Contagion (2011)', 'Avengers, The (2012)', 'Killer Elite (2011)', 'In Time (2011)', 'Puss in Boots (2011)', 'Tower Heist (2011)', 'Adventures of Tintin, The (2011)', 'Immortals (2011)', 'Expendables 2, The (2012)', 'Hunger Games, The (2012)', 'Dark Knight Rises, The (2012)', 'Bourne Legacy, The (2012)', 'Sherlock Holmes: A Game of Shadows (2011)', 'Mission: Impossible - Ghost Protocol (2011)', 'Underworld: Awakening (2012)', 'Haywire (2011)', 'Safe House (2012)', '21 Jump Street (2012)', 'Battleship (2012)', 'Men in Black III (M.III.B.) (M.I.B.³) (2012)', 'Snow White and the Huntsman (2012)', 'Abraham Lincoln: Vampire Hunter (2012)', 'Amazing Spider-Man, The (2012)', 'Total Recall (2012)', 'Skyfall (2012)', 'Premium Rush (2012)', 'Looper (2012)', 'End of Watch (2012)', 'Taken 2 (2012)', 'Cloud Atlas (2012)', 'Jack Reacher (2012)', 'Gangster Squad (2013)', 'Last Stand, The (2013)', 'Hansel & Gretel: Witch Hunters (2013)', 'Good Day to Die Hard, A (2013)', 'Olympus Has Fallen (2013)', 'Oblivion (2013)', 'Iron Man 3 (2013)', 'Star Trek Into Darkness (2013)', 'Man of Steel (2013)', 'Pacific Rim (2013)', 'World War Z (2013)', 'Elysium (2013)', \"World's End, The (2013)\", 'Lone Ranger, The (2013)', 'Wolverine, The (2013)', 'Red 2 (2013)', 'Kick-Ass 2 (2013)', 'Hunger Games: Catching Fire, The (2013)', 'Snowpiercer (2013)', 'Divergent (2014)', 'RoboCop (2014)', 'Non-Stop (2014)', '300: Rise of an Empire (2014)', 'Captain America: The Winter Soldier (2014)', 'Noah (2014)', 'The Amazing Spider-Man 2 (2014)', 'Transcendence (2014)', 'Lucy (2014)', 'X-Men: Days of Future Past (2014)', 'Maleficent (2014)', 'Edge of Tomorrow (2014)', '22 Jump Street (2014)', 'How to Train Your Dragon 2 (2014)', 'Dawn of the Planet of the Apes (2014)', 'Guardians of the Galaxy (2014)', 'John Wick (2014)', 'The Hunger Games: Mockingjay - Part 1 (2014)']\n"
     ]
    },
    {
     "name": "stderr",
     "output_type": "stream",
     "text": [
      "/anaconda3/lib/python3.7/site-packages/pandas/core/frame.py:3697: SettingWithCopyWarning: \n",
      "A value is trying to be set on a copy of a slice from a DataFrame\n",
      "\n",
      "See the caveats in the documentation: http://pandas.pydata.org/pandas-docs/stable/indexing.html#indexing-view-versus-copy\n",
      "  errors=errors)\n",
      "100%|██████████| 717/717 [00:00<00:00, 18517.96it/s]"
     ]
    },
    {
     "name": "stdout",
     "output_type": "stream",
     "text": [
      "Here are movies you will love\n"
     ]
    },
    {
     "name": "stderr",
     "output_type": "stream",
     "text": [
      "\n"
     ]
    },
    {
     "data": {
      "text/plain": [
       "['Falcon Rising (2014)',\n",
       " 'Stay (2013)',\n",
       " 'Omega Doom (1996)',\n",
       " 'Chair, The (2007)',\n",
       " 'Gamera vs. Guiron (1969)',\n",
       " 'Dallas Buyers Club (2013)',\n",
       " 'Kon-Tiki (2012)',\n",
       " 'Cuckoo in a Dark Forest (Kukacka v temném lese) (1986) ',\n",
       " 'Romantics, The (2010)',\n",
       " 'Expendables, The (2010)',\n",
       " 'Downloading Nancy (2008)',\n",
       " 'Hustle (1975)',\n",
       " 'Big Stampede, The (1932)',\n",
       " 'Sound of the Mountain (Thunder of the Mountain, The) (Yama no oto) (1954)',\n",
       " 'Motel, The (2005)',\n",
       " 'Five Pennies, The (1959)',\n",
       " 'King Kong (2005)',\n",
       " 'Simon (2004)',\n",
       " 'Handful of Dust, A (1988)',\n",
       " 'Samurai I: Musashi Miyamoto (Miyamoto Musashi) (1954)',\n",
       " 'Executive Suite (1954)',\n",
       " 'Die, Mommie, Die (2003)',\n",
       " 'Women in Love (1969)',\n",
       " 'Interview with the Assassin (2002)',\n",
       " 'Used Cars (1980)',\n",
       " 'Gentlemen Prefer Blondes (1953)',\n",
       " \"Jacob's Ladder (1990)\",\n",
       " 'Excalibur (1981)',\n",
       " 'Simply Irresistible (1999)',\n",
       " 'Fried Green Tomatoes (1991)']"
      ]
     },
     "execution_count": 18,
     "metadata": {},
     "output_type": "execute_result"
    }
   ],
   "source": [
    "\n",
    "\n",
    "user = input(\"Type a number between 0 and 1167 to indicate your IdUser : \")\n",
    "movies_asked= input(\"Type the number of movies you want to watch : \")\n",
    "user=int(user)\n",
    "movies_asked=int(movies_asked)\n",
    "\n",
    "\n",
    "n_users = ratings.Id_Action.unique().shape[0]\n",
    "n_movies = ratings.movie_Action.unique().shape[0]\n",
    "\n",
    "filtre=list(ratings[\"movie_Action\"][ratings[\"Id_Action\"]==user].unique())\n",
    "\n",
    "films_vus_par_u = ratings[ratings[\"movie_Action\"].isin(filtre)]\n",
    "\n",
    "#In a first we suppose assume that there is no user to remove but only movies to reindex\n",
    "n_users=len(films_vus_par_u[\"Id_Action\"].unique())\n",
    "n_movies=len(films_vus_par_u[\"movie_Action\"].unique())\n",
    "\n",
    "\n",
    "jointure=pd.merge(movies_titles,ratings)\n",
    "jointure.drop([\"movieId_ref\",\"userId\",\"Id_Action\",\"rating\"],axis=1,inplace=True)\n",
    "jointure.head()\n",
    "jointure.head()\n",
    "\n",
    "movies_seen=jointure[jointure[\"movie_Action\"].isin(filtre)]\n",
    "print(\"Bravo, you have already seen \",str(n_movies) + \" movies\")\n",
    "print(\"The list of movies I advice you is below\")\n",
    "print(\"this is the list of movies already seen : \",list(movies_seen[\"title\"].unique()))\n",
    "\n",
    "films_vus_par_u.drop([\"userId\",\"movieId_ref\"],axis=1,inplace=True)\n",
    "\n",
    "conversion_Id_movies_seen=pd.DataFrame({\"movie_Action\":list(films_vus_par_u[\"movie_Action\"].unique()),\"new_movies_Id\":range(0,n_movies)})\n",
    "result=pd.merge(films_vus_par_u, conversion_Id_movies_seen, how='inner', on=None, left_on=None, right_on=None,\n",
    "         left_index=False, right_index=False, sort=True,\n",
    "         suffixes=('_x', '_y'), copy=True, indicator=False,\n",
    "         validate=None)\n",
    "\n",
    "matrice=np.zeros(( n_users,n_movies))\n",
    "for line in result.itertuples():\n",
    "    matrice[line[1], line[4]]=line[2]\n",
    "\n",
    "user_similarity=dist.cosine_similarity(matrice)\n",
    "\n",
    "a=list(ratings[\"movie_Action\"].unique())\n",
    "b=list(movies_seen[\"movie_Action\"].unique())\n",
    "movie_no_seen=[item for item in a if item not in b]\n",
    "movie_no_seen=pd.DataFrame({\"movie_Action\" : movie_no_seen})\n",
    "movie_no_seen=pd.merge(movie_no_seen,ratings,how='inner')\n",
    "\n",
    "n_movies=len(movie_no_seen.movie_Action.unique())\n",
    "#Il faut construire un nouveau index des Id_movies\n",
    "conversion_Id_movies_no_seen=pd.DataFrame({\"movie_Action\":list(movie_no_seen[\"movie_Action\"].unique()),\"new_movies_Id\":range(0,n_movies)})\n",
    "\n",
    "result=pd.merge(movie_no_seen, conversion_Id_movies_no_seen, how='inner', on=None, left_on=None, right_on=None,\n",
    "         left_index=False, right_index=False, sort=True,\n",
    "         suffixes=('_x', '_y'), copy=True, indicator=False,\n",
    "         validate=None)\n",
    "\n",
    "matrice_new=np.zeros(( 1168,n_movies))\n",
    "for line in result.itertuples():\n",
    "    matrice_new[line[3], line[6]]=line[5]\n",
    "    \n",
    "def pred_user(matrice_modele, user_similarity, k, user):    \n",
    "    pred = np.zeros(matrice_modele.shape[1])\n",
    "    top_k_users = np.argsort(user_similarity[:,user])[-1:-k-1:-1]  \n",
    "    for i in tqdm(range(matrice_modele.shape[1])):\n",
    "        pred[i]=user_similarity[user,:][top_k_users].dot(matrice_modele[:,i][top_k_users])\n",
    "        pred[i]/=np.sum(np.abs(user_similarity[user,:][top_k_users]))+0.000001     \n",
    "    return pred \n",
    "\n",
    "movies_adviced=np.argsort(pred_user(matrice_new, user_similarity, 15, user))[-1:-2:-1]\n",
    "movies_adviced=list(result[\"movie_Action\"][result[\"new_movies_Id\"].isin(movies_adviced)].unique())\n",
    "movies_adviced=list(ratings[\"movieId_ref\"][ratings[\"movie_Action\"].isin(movies_adviced)].unique())\n",
    "\n",
    "movies_adviced=list(movies_titles[\"title\"][ratings[\"movieId_ref\"].isin(movies_adviced)].unique())\n",
    "\n",
    "print(\"Here are movies you will love\")\n",
    "movies_adviced[::-1][-1-movies_asked:-1]"
   ]
  },
  {
   "cell_type": "code",
   "execution_count": null,
   "metadata": {},
   "outputs": [],
   "source": []
  }
 ],
 "metadata": {
  "kernelspec": {
   "display_name": "Python 3",
   "language": "python",
   "name": "python3"
  },
  "language_info": {
   "codemirror_mode": {
    "name": "ipython",
    "version": 3
   },
   "file_extension": ".py",
   "mimetype": "text/x-python",
   "name": "python",
   "nbconvert_exporter": "python",
   "pygments_lexer": "ipython3",
   "version": "3.7.1"
  }
 },
 "nbformat": 4,
 "nbformat_minor": 2
}
